{
 "cells": [
  {
   "cell_type": "code",
   "execution_count": 33,
   "metadata": {},
   "outputs": [],
   "source": [
    "import pandas as pd\n",
    "import numpy as np\n",
    "from sklearn.ensemble import RandomForestRegressor\n",
    "from sklearn.model_selection import train_test_split\n",
    "from sklearn.metrics import accuracy_score, roc_curve, auc, confusion_matrix, average_precision_score, precision_recall_curve\n"
   ]
  },
  {
   "cell_type": "markdown",
   "metadata": {},
   "source": [
    "## Importing Data"
   ]
  },
  {
   "cell_type": "code",
   "execution_count": 92,
   "metadata": {},
   "outputs": [],
   "source": [
    "goal_11 = pd.read_excel(\"DataVizChallenge2021/sdg_data/Goal11.xlsx\")"
   ]
  },
  {
   "cell_type": "code",
   "execution_count": 93,
   "metadata": {},
   "outputs": [
    {
     "name": "stdout",
     "output_type": "stream",
     "text": [
      "<class 'pandas.core.frame.DataFrame'>\n",
      "RangeIndex: 19296 entries, 0 to 19295\n",
      "Data columns (total 23 columns):\n",
      " #   Column             Non-Null Count  Dtype  \n",
      "---  ------             --------------  -----  \n",
      " 0   Goal               19296 non-null  int64  \n",
      " 1   Target             19296 non-null  object \n",
      " 2   Indicator          19296 non-null  object \n",
      " 3   SeriesCode         19296 non-null  object \n",
      " 4   SeriesDescription  19296 non-null  object \n",
      " 5   GeoAreaCode        19296 non-null  int64  \n",
      " 6   GeoAreaName        19296 non-null  object \n",
      " 7   TimePeriod         19296 non-null  int64  \n",
      " 8   Value              19296 non-null  float64\n",
      " 9   Time_Detail        19296 non-null  object \n",
      " 10  TimeCoverage       0 non-null      float64\n",
      " 11  UpperBound         0 non-null      float64\n",
      " 12  LowerBound         0 non-null      float64\n",
      " 13  BasePeriod         0 non-null      float64\n",
      " 14  Source             19296 non-null  object \n",
      " 15  GeoInfoUrl         0 non-null      float64\n",
      " 16  FootNote           15260 non-null  object \n",
      " 17  Cities             127 non-null    object \n",
      " 18  Hazard type        0 non-null      float64\n",
      " 19  Location           4034 non-null   object \n",
      " 20  Nature             18873 non-null  object \n",
      " 21  Reporting Type     19296 non-null  object \n",
      " 22  Units              19296 non-null  object \n",
      "dtypes: float64(7), int64(3), object(13)\n",
      "memory usage: 3.4+ MB\n"
     ]
    }
   ],
   "source": [
    "goal_11.info()"
   ]
  },
  {
   "cell_type": "code",
   "execution_count": 94,
   "metadata": {},
   "outputs": [],
   "source": [
    "subset_goal_11 = goal_11[['GeoAreaName', 'SeriesCode', 'Value']]"
   ]
  },
  {
   "cell_type": "code",
   "execution_count": 95,
   "metadata": {},
   "outputs": [],
   "source": [
    "goal_11_transformed = subset_goal_11.pivot_table(index='GeoAreaName', columns = 'SeriesCode', aggfunc='mean')"
   ]
  },
  {
   "cell_type": "code",
   "execution_count": 96,
   "metadata": {
    "scrolled": true
   },
   "outputs": [
    {
     "data": {
      "text/html": [
       "<div>\n",
       "<style scoped>\n",
       "    .dataframe tbody tr th:only-of-type {\n",
       "        vertical-align: middle;\n",
       "    }\n",
       "\n",
       "    .dataframe tbody tr th {\n",
       "        vertical-align: top;\n",
       "    }\n",
       "\n",
       "    .dataframe thead tr th {\n",
       "        text-align: left;\n",
       "    }\n",
       "\n",
       "    .dataframe thead tr:last-of-type th {\n",
       "        text-align: right;\n",
       "    }\n",
       "</style>\n",
       "<table border=\"1\" class=\"dataframe\">\n",
       "  <thead>\n",
       "    <tr>\n",
       "      <th></th>\n",
       "      <th colspan=\"21\" halign=\"left\">Value</th>\n",
       "    </tr>\n",
       "    <tr>\n",
       "      <th>SeriesCode</th>\n",
       "      <th>EN_ATM_PM25</th>\n",
       "      <th>EN_LND_SLUM</th>\n",
       "      <th>EN_REF_WASCOL</th>\n",
       "      <th>SD_CPA_UPRDP</th>\n",
       "      <th>SG_DSR_LGRGSR</th>\n",
       "      <th>SG_DSR_SFDRR</th>\n",
       "      <th>SG_DSR_SILN</th>\n",
       "      <th>SG_DSR_SILS</th>\n",
       "      <th>SG_GOV_LOGV</th>\n",
       "      <th>VC_DSR_AFFCT</th>\n",
       "      <th>...</th>\n",
       "      <th>VC_DSR_IJILN</th>\n",
       "      <th>VC_DSR_LSGP</th>\n",
       "      <th>VC_DSR_MISS</th>\n",
       "      <th>VC_DSR_MMHN</th>\n",
       "      <th>VC_DSR_MORT</th>\n",
       "      <th>VC_DSR_MTMP</th>\n",
       "      <th>VC_DSR_OBDN</th>\n",
       "      <th>VC_DSR_PDAN</th>\n",
       "      <th>VC_DSR_PDLN</th>\n",
       "      <th>VC_DSR_PDYN</th>\n",
       "    </tr>\n",
       "    <tr>\n",
       "      <th>GeoAreaName</th>\n",
       "      <th></th>\n",
       "      <th></th>\n",
       "      <th></th>\n",
       "      <th></th>\n",
       "      <th></th>\n",
       "      <th></th>\n",
       "      <th></th>\n",
       "      <th></th>\n",
       "      <th></th>\n",
       "      <th></th>\n",
       "      <th></th>\n",
       "      <th></th>\n",
       "      <th></th>\n",
       "      <th></th>\n",
       "      <th></th>\n",
       "      <th></th>\n",
       "      <th></th>\n",
       "      <th></th>\n",
       "      <th></th>\n",
       "      <th></th>\n",
       "      <th></th>\n",
       "    </tr>\n",
       "  </thead>\n",
       "  <tbody>\n",
       "    <tr>\n",
       "      <th>World</th>\n",
       "      <td>34.708362</td>\n",
       "      <td>23.5</td>\n",
       "      <td>NaN</td>\n",
       "      <td>156.0</td>\n",
       "      <td>NaN</td>\n",
       "      <td>118.0</td>\n",
       "      <td>NaN</td>\n",
       "      <td>NaN</td>\n",
       "      <td>NaN</td>\n",
       "      <td>NaN</td>\n",
       "      <td>...</td>\n",
       "      <td>NaN</td>\n",
       "      <td>NaN</td>\n",
       "      <td>NaN</td>\n",
       "      <td>NaN</td>\n",
       "      <td>NaN</td>\n",
       "      <td>NaN</td>\n",
       "      <td>NaN</td>\n",
       "      <td>NaN</td>\n",
       "      <td>NaN</td>\n",
       "      <td>NaN</td>\n",
       "    </tr>\n",
       "  </tbody>\n",
       "</table>\n",
       "<p>1 rows × 34 columns</p>\n",
       "</div>"
      ],
      "text/plain": [
       "                  Value                                                       \\\n",
       "SeriesCode  EN_ATM_PM25 EN_LND_SLUM EN_REF_WASCOL SD_CPA_UPRDP SG_DSR_LGRGSR   \n",
       "GeoAreaName                                                                    \n",
       "World         34.708362        23.5           NaN        156.0           NaN   \n",
       "\n",
       "                                                                           \\\n",
       "SeriesCode  SG_DSR_SFDRR SG_DSR_SILN SG_DSR_SILS SG_GOV_LOGV VC_DSR_AFFCT   \n",
       "GeoAreaName                                                                 \n",
       "World              118.0         NaN         NaN         NaN          NaN   \n",
       "\n",
       "             ...                                                               \\\n",
       "SeriesCode   ... VC_DSR_IJILN VC_DSR_LSGP VC_DSR_MISS VC_DSR_MMHN VC_DSR_MORT   \n",
       "GeoAreaName  ...                                                                \n",
       "World        ...          NaN         NaN         NaN         NaN         NaN   \n",
       "\n",
       "                                                                         \n",
       "SeriesCode  VC_DSR_MTMP VC_DSR_OBDN VC_DSR_PDAN VC_DSR_PDLN VC_DSR_PDYN  \n",
       "GeoAreaName                                                              \n",
       "World               NaN         NaN         NaN         NaN         NaN  \n",
       "\n",
       "[1 rows x 34 columns]"
      ]
     },
     "execution_count": 96,
     "metadata": {},
     "output_type": "execute_result"
    }
   ],
   "source": [
    "goal_11_transformed.loc[['World']]"
   ]
  },
  {
   "cell_type": "code",
   "execution_count": 97,
   "metadata": {},
   "outputs": [],
   "source": [
    "goal_11_T_noWorld = goal_11_transformed.drop(index='World')"
   ]
  },
  {
   "cell_type": "code",
   "execution_count": 98,
   "metadata": {},
   "outputs": [],
   "source": [
    "drop_features = [('Value', 'VC_DSR_OBDN'),('Value', 'VC_DSR_CDYN'),('Value', 'SG_DSR_SFDRR'),('Value', 'VC_DSR_DDPA'),('Value', 'SG_DSR_SFDRR'),('Value', 'VC_DSR_CHLN'), ('Value', 'VC_DSR_CHLN')]"
   ]
  },
  {
   "cell_type": "code",
   "execution_count": 99,
   "metadata": {},
   "outputs": [],
   "source": [
    "draft = goal_11_T_noWorld.drop(columns=drop_features)"
   ]
  },
  {
   "cell_type": "code",
   "execution_count": 100,
   "metadata": {},
   "outputs": [
    {
     "name": "stdout",
     "output_type": "stream",
     "text": [
      "<class 'pandas.core.frame.DataFrame'>\n",
      "Index: 265 entries, Afghanistan to Åland Islands\n",
      "Data columns (total 29 columns):\n",
      " #   Column                  Non-Null Count  Dtype  \n",
      "---  ------                  --------------  -----  \n",
      " 0   (Value, EN_ATM_PM25)    202 non-null    float64\n",
      " 1   (Value, EN_LND_SLUM)    133 non-null    float64\n",
      " 2   (Value, EN_REF_WASCOL)  89 non-null     float64\n",
      " 3   (Value, SD_CPA_UPRDP)   264 non-null    float64\n",
      " 4   (Value, SG_DSR_LGRGSR)  132 non-null    float64\n",
      " 5   (Value, SG_DSR_SILN)    107 non-null    float64\n",
      " 6   (Value, SG_DSR_SILS)    106 non-null    float64\n",
      " 7   (Value, SG_GOV_LOGV)    110 non-null    float64\n",
      " 8   (Value, VC_DSR_AFFCT)   142 non-null    float64\n",
      " 9   (Value, VC_DSR_AGLH)    102 non-null    float64\n",
      " 10  (Value, VC_DSR_BSDN)    99 non-null     float64\n",
      " 11  (Value, VC_DSR_CDAN)    80 non-null     float64\n",
      " 12  (Value, VC_DSR_CILN)    90 non-null     float64\n",
      " 13  (Value, VC_DSR_DAFF)    142 non-null    float64\n",
      " 14  (Value, VC_DSR_EFDN)    77 non-null     float64\n",
      " 15  (Value, VC_DSR_ESDN)    82 non-null     float64\n",
      " 16  (Value, VC_DSR_GDPLS)   128 non-null    float64\n",
      " 17  (Value, VC_DSR_HFDN)    61 non-null     float64\n",
      " 18  (Value, VC_DSR_HOLH)    122 non-null    float64\n",
      " 19  (Value, VC_DSR_HSDN)    79 non-null     float64\n",
      " 20  (Value, VC_DSR_IJILN)   132 non-null    float64\n",
      " 21  (Value, VC_DSR_LSGP)    128 non-null    float64\n",
      " 22  (Value, VC_DSR_MISS)    75 non-null     float64\n",
      " 23  (Value, VC_DSR_MMHN)    145 non-null    float64\n",
      " 24  (Value, VC_DSR_MORT)    143 non-null    float64\n",
      " 25  (Value, VC_DSR_MTMP)    145 non-null    float64\n",
      " 26  (Value, VC_DSR_PDAN)    129 non-null    float64\n",
      " 27  (Value, VC_DSR_PDLN)    103 non-null    float64\n",
      " 28  (Value, VC_DSR_PDYN)    122 non-null    float64\n",
      "dtypes: float64(29)\n",
      "memory usage: 62.1+ KB\n"
     ]
    }
   ],
   "source": [
    "draft.info()"
   ]
  },
  {
   "cell_type": "code",
   "execution_count": 101,
   "metadata": {},
   "outputs": [],
   "source": [
    "#dropping countries that don't have any data for %in urban slums\n",
    "goal_11_final = draft[draft[('Value', 'EN_LND_SLUM')].notna()]"
   ]
  },
  {
   "cell_type": "code",
   "execution_count": 102,
   "metadata": {},
   "outputs": [
    {
     "name": "stdout",
     "output_type": "stream",
     "text": [
      "<class 'pandas.core.frame.DataFrame'>\n",
      "Index: 133 entries, Afghanistan to Zimbabwe\n",
      "Data columns (total 29 columns):\n",
      " #   Column                  Non-Null Count  Dtype  \n",
      "---  ------                  --------------  -----  \n",
      " 0   (Value, EN_ATM_PM25)    129 non-null    float64\n",
      " 1   (Value, EN_LND_SLUM)    133 non-null    float64\n",
      " 2   (Value, EN_REF_WASCOL)  61 non-null     float64\n",
      " 3   (Value, SD_CPA_UPRDP)   133 non-null    float64\n",
      " 4   (Value, SG_DSR_LGRGSR)  81 non-null     float64\n",
      " 5   (Value, SG_DSR_SILN)    64 non-null     float64\n",
      " 6   (Value, SG_DSR_SILS)    64 non-null     float64\n",
      " 7   (Value, SG_GOV_LOGV)    67 non-null     float64\n",
      " 8   (Value, VC_DSR_AFFCT)   96 non-null     float64\n",
      " 9   (Value, VC_DSR_AGLH)    73 non-null     float64\n",
      " 10  (Value, VC_DSR_BSDN)    68 non-null     float64\n",
      " 11  (Value, VC_DSR_CDAN)    60 non-null     float64\n",
      " 12  (Value, VC_DSR_CILN)    66 non-null     float64\n",
      " 13  (Value, VC_DSR_DAFF)    96 non-null     float64\n",
      " 14  (Value, VC_DSR_EFDN)    58 non-null     float64\n",
      " 15  (Value, VC_DSR_ESDN)    60 non-null     float64\n",
      " 16  (Value, VC_DSR_GDPLS)   87 non-null     float64\n",
      " 17  (Value, VC_DSR_HFDN)    47 non-null     float64\n",
      " 18  (Value, VC_DSR_HOLH)    85 non-null     float64\n",
      " 19  (Value, VC_DSR_HSDN)    60 non-null     float64\n",
      " 20  (Value, VC_DSR_IJILN)   92 non-null     float64\n",
      " 21  (Value, VC_DSR_LSGP)    87 non-null     float64\n",
      " 22  (Value, VC_DSR_MISS)    58 non-null     float64\n",
      " 23  (Value, VC_DSR_MMHN)    97 non-null     float64\n",
      " 24  (Value, VC_DSR_MORT)    96 non-null     float64\n",
      " 25  (Value, VC_DSR_MTMP)    97 non-null     float64\n",
      " 26  (Value, VC_DSR_PDAN)    90 non-null     float64\n",
      " 27  (Value, VC_DSR_PDLN)    78 non-null     float64\n",
      " 28  (Value, VC_DSR_PDYN)    89 non-null     float64\n",
      "dtypes: float64(29)\n",
      "memory usage: 31.2+ KB\n"
     ]
    }
   ],
   "source": [
    "goal_11_final.info()"
   ]
  },
  {
   "cell_type": "code",
   "execution_count": 103,
   "metadata": {},
   "outputs": [],
   "source": [
    "# Setting Percent of Urban Population Living in Slums as Target to predict\n",
    "target = np.array(goal_11_final[('Value', 'EN_LND_SLUM')])\n",
    "\n",
    "#Remove Target from features\n",
    "features = goal_11_final.drop(('Value', 'EN_LND_SLUM'), axis=1)\n",
    "\n",
    "#Saving Feature names for future use\n",
    "feature_list = list(features.columns)\n",
    "\n",
    "#Converting to numpy array\n",
    "features = np.array(features)\n"
   ]
  },
  {
   "cell_type": "code",
   "execution_count": 104,
   "metadata": {},
   "outputs": [],
   "source": [
    "# Attempting to Impute Missing Values\n",
    "from sklearn.experimental import enable_iterative_imputer\n",
    "from sklearn.impute import IterativeImputer"
   ]
  },
  {
   "cell_type": "code",
   "execution_count": 105,
   "metadata": {
    "scrolled": true
   },
   "outputs": [
    {
     "data": {
      "text/plain": [
       "IterativeImputer(add_indicator=False, estimator=None,\n",
       "                 imputation_order='ascending', initial_strategy='mean',\n",
       "                 max_iter=10, max_value=None, min_value=None,\n",
       "                 missing_values=nan, n_nearest_features=None, random_state=0,\n",
       "                 sample_posterior=False, skip_complete=False, tol=0.001,\n",
       "                 verbose=0)"
      ]
     },
     "execution_count": 105,
     "metadata": {},
     "output_type": "execute_result"
    }
   ],
   "source": [
    "#Using Iterative imputer to fill in null-values\n",
    "\n",
    "imp = IterativeImputer(max_iter=10, random_state=0)\n",
    "imp.fit(features)"
   ]
  },
  {
   "cell_type": "code",
   "execution_count": 106,
   "metadata": {},
   "outputs": [],
   "source": [
    "features_imputed = imp.transform(features)"
   ]
  },
  {
   "cell_type": "code",
   "execution_count": 107,
   "metadata": {},
   "outputs": [],
   "source": [
    "# Using Skicit-learn to split data into training and testing sets\n",
    "# Split the data into training and testing sets\n",
    "train_features, test_features, train_target, test_target = train_test_split(\n",
    "    features_imputed, target, test_size = 0.25, random_state = 42)"
   ]
  },
  {
   "cell_type": "code",
   "execution_count": 108,
   "metadata": {},
   "outputs": [
    {
     "name": "stdout",
     "output_type": "stream",
     "text": [
      "Training Features Shape: (99, 28)\n",
      "Training Labels Shape: (99,)\n",
      "Testing Features Shape: (34, 28)\n",
      "Testing Labels Shape: (34,)\n"
     ]
    }
   ],
   "source": [
    "print('Training Features Shape:', train_features.shape)\n",
    "print('Training Labels Shape:', train_target.shape)\n",
    "print('Testing Features Shape:', test_features.shape)\n",
    "print('Testing Labels Shape:', test_target.shape)"
   ]
  },
  {
   "cell_type": "code",
   "execution_count": 42,
   "metadata": {},
   "outputs": [],
   "source": [
    "# # The baseline predictions are the historical averages\n",
    "# baseline_preds = test_features[:, feature_list.index('average')]\n",
    "# # Baseline errors, and display average baseline error\n",
    "# baseline_errors = abs(baseline_preds - test_labels)\n",
    "# print('Average baseline error: ', round(np.mean(baseline_errors), 2))"
   ]
  },
  {
   "cell_type": "code",
   "execution_count": 109,
   "metadata": {},
   "outputs": [],
   "source": [
    "# Instantiate model with 1000 decision trees\n",
    "rf = RandomForestRegressor(n_estimators = 1000, random_state = 42)\n",
    "# Train the model on training data\n",
    "rf.fit(train_features, train_target);"
   ]
  },
  {
   "cell_type": "code",
   "execution_count": 116,
   "metadata": {},
   "outputs": [],
   "source": [
    "target_predict = rf.predict(test_features)"
   ]
  },
  {
   "cell_type": "code",
   "execution_count": 112,
   "metadata": {},
   "outputs": [
    {
     "name": "stdout",
     "output_type": "stream",
     "text": [
      "Training Accuracy =  0.8900611611657318\n",
      "Test Accuracy =  0.3788009275153998\n"
     ]
    }
   ],
   "source": [
    "print(\"Training Accuracy = \", rf.score(train_features, train_target))\n",
    "print(\"Test Accuracy = \", rf.score(test_features, test_target))"
   ]
  },
  {
   "cell_type": "code",
   "execution_count": 113,
   "metadata": {},
   "outputs": [],
   "source": [
    "from sklearn.metrics import mean_squared_error"
   ]
  },
  {
   "cell_type": "code",
   "execution_count": 117,
   "metadata": {},
   "outputs": [
    {
     "data": {
      "text/plain": [
       "395.3664785056347"
      ]
     },
     "execution_count": 117,
     "metadata": {},
     "output_type": "execute_result"
    }
   ],
   "source": [
    "mean_squared_error(test_target,target_predict)"
   ]
  },
  {
   "cell_type": "markdown",
   "metadata": {},
   "source": [
    "Horrible test accuracy compared to training set, possibly too many estimators. Adjusting parameters of the model "
   ]
  },
  {
   "cell_type": "code",
   "execution_count": 124,
   "metadata": {},
   "outputs": [
    {
     "data": {
      "text/plain": [
       "411.4166493568787"
      ]
     },
     "execution_count": 124,
     "metadata": {},
     "output_type": "execute_result"
    }
   ],
   "source": [
    "# Instantiate model with 1000 decision trees\n",
    "rf2 = RandomForestRegressor(n_estimators = 1000, random_state = 42, oob_score=True, max_leaf_nodes = 5, max_depth = 10)\n",
    "# Train the model on training data\n",
    "rf2.fit(train_features, train_target);\n",
    "target_predict = rf2.predict(test_features);\n",
    "mean_squared_error(test_target,target_predict)\n"
   ]
  },
  {
   "cell_type": "code",
   "execution_count": 127,
   "metadata": {},
   "outputs": [],
   "source": [
    "f_importance  = list(rf.feature_importances_)"
   ]
  },
  {
   "cell_type": "code",
   "execution_count": 129,
   "metadata": {},
   "outputs": [
    {
     "data": {
      "text/plain": [
       "[(('Value', 'EN_ATM_PM25'), 0.19703193725021798),\n",
       " (('Value', 'EN_REF_WASCOL'), 0.11068336555983779),\n",
       " (('Value', 'SD_CPA_UPRDP'), 0.009215792280332162),\n",
       " (('Value', 'SG_DSR_LGRGSR'), 0.032573541620382514),\n",
       " (('Value', 'SG_DSR_SILN'), 0.021599461177760397),\n",
       " (('Value', 'SG_DSR_SILS'), 0.03131437108505413),\n",
       " (('Value', 'SG_GOV_LOGV'), 0.056301385310143705),\n",
       " (('Value', 'VC_DSR_AFFCT'), 0.01769174725911507),\n",
       " (('Value', 'VC_DSR_AGLH'), 0.010413641548559302),\n",
       " (('Value', 'VC_DSR_BSDN'), 0.027001282312201967),\n",
       " (('Value', 'VC_DSR_CDAN'), 0.015122744600635686),\n",
       " (('Value', 'VC_DSR_CILN'), 0.019072732380534873),\n",
       " (('Value', 'VC_DSR_DAFF'), 0.019040853671713487),\n",
       " (('Value', 'VC_DSR_EFDN'), 0.01721833556275882),\n",
       " (('Value', 'VC_DSR_ESDN'), 0.016497745958525278),\n",
       " (('Value', 'VC_DSR_GDPLS'), 0.009889780677424553),\n",
       " (('Value', 'VC_DSR_HFDN'), 0.02249213262852094),\n",
       " (('Value', 'VC_DSR_HOLH'), 0.012749909328213335),\n",
       " (('Value', 'VC_DSR_HSDN'), 0.06644236644288837),\n",
       " (('Value', 'VC_DSR_IJILN'), 0.025297223077617222),\n",
       " (('Value', 'VC_DSR_LSGP'), 0.05292261560935805),\n",
       " (('Value', 'VC_DSR_MISS'), 0.026410062167164208),\n",
       " (('Value', 'VC_DSR_MMHN'), 0.04383317309917291),\n",
       " (('Value', 'VC_DSR_MORT'), 0.021050011967916338),\n",
       " (('Value', 'VC_DSR_MTMP'), 0.03921400482932794),\n",
       " (('Value', 'VC_DSR_PDAN'), 0.014492200478017761),\n",
       " (('Value', 'VC_DSR_PDLN'), 0.04007153358708921),\n",
       " (('Value', 'VC_DSR_PDYN'), 0.024356048529515745)]"
      ]
     },
     "execution_count": 129,
     "metadata": {},
     "output_type": "execute_result"
    }
   ],
   "source": [
    "list(zip(feature_list, f_importance))"
   ]
  },
  {
   "cell_type": "code",
   "execution_count": 132,
   "metadata": {},
   "outputs": [
    {
     "data": {
      "text/plain": [
       "[(('Value', 'EN_ATM_PM25'), 0.19703193725021798),\n",
       " (('Value', 'EN_REF_WASCOL'), 0.11068336555983779),\n",
       " (('Value', 'VC_DSR_HSDN'), 0.06644236644288837),\n",
       " (('Value', 'SG_GOV_LOGV'), 0.056301385310143705),\n",
       " (('Value', 'VC_DSR_LSGP'), 0.05292261560935805),\n",
       " (('Value', 'VC_DSR_MMHN'), 0.04383317309917291),\n",
       " (('Value', 'VC_DSR_PDLN'), 0.04007153358708921),\n",
       " (('Value', 'VC_DSR_MTMP'), 0.03921400482932794),\n",
       " (('Value', 'SG_DSR_LGRGSR'), 0.032573541620382514),\n",
       " (('Value', 'SG_DSR_SILS'), 0.03131437108505413),\n",
       " (('Value', 'VC_DSR_BSDN'), 0.027001282312201967),\n",
       " (('Value', 'VC_DSR_MISS'), 0.026410062167164208),\n",
       " (('Value', 'VC_DSR_IJILN'), 0.025297223077617222),\n",
       " (('Value', 'VC_DSR_PDYN'), 0.024356048529515745),\n",
       " (('Value', 'VC_DSR_HFDN'), 0.02249213262852094),\n",
       " (('Value', 'SG_DSR_SILN'), 0.021599461177760397),\n",
       " (('Value', 'VC_DSR_MORT'), 0.021050011967916338),\n",
       " (('Value', 'VC_DSR_CILN'), 0.019072732380534873),\n",
       " (('Value', 'VC_DSR_DAFF'), 0.019040853671713487),\n",
       " (('Value', 'VC_DSR_AFFCT'), 0.01769174725911507),\n",
       " (('Value', 'VC_DSR_EFDN'), 0.01721833556275882),\n",
       " (('Value', 'VC_DSR_ESDN'), 0.016497745958525278),\n",
       " (('Value', 'VC_DSR_CDAN'), 0.015122744600635686),\n",
       " (('Value', 'VC_DSR_PDAN'), 0.014492200478017761),\n",
       " (('Value', 'VC_DSR_HOLH'), 0.012749909328213335),\n",
       " (('Value', 'VC_DSR_AGLH'), 0.010413641548559302),\n",
       " (('Value', 'VC_DSR_GDPLS'), 0.009889780677424553),\n",
       " (('Value', 'SD_CPA_UPRDP'), 0.009215792280332162)]"
      ]
     },
     "execution_count": 132,
     "metadata": {},
     "output_type": "execute_result"
    }
   ],
   "source": [
    "sorted(list(zip(feature_list, f_importance)), key=lambda x: x[1], reverse=True)"
   ]
  },
  {
   "cell_type": "code",
   "execution_count": null,
   "metadata": {},
   "outputs": [],
   "source": []
  }
 ],
 "metadata": {
  "kernelspec": {
   "display_name": "Python 3",
   "language": "python",
   "name": "python3"
  },
  "language_info": {
   "codemirror_mode": {
    "name": "ipython",
    "version": 3
   },
   "file_extension": ".py",
   "mimetype": "text/x-python",
   "name": "python",
   "nbconvert_exporter": "python",
   "pygments_lexer": "ipython3",
   "version": "3.7.6"
  },
  "toc": {
   "base_numbering": 1,
   "nav_menu": {},
   "number_sections": true,
   "sideBar": true,
   "skip_h1_title": false,
   "title_cell": "Table of Contents",
   "title_sidebar": "Contents",
   "toc_cell": false,
   "toc_position": {},
   "toc_section_display": true,
   "toc_window_display": false
  }
 },
 "nbformat": 4,
 "nbformat_minor": 4
}
