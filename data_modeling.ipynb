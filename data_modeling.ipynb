{
 "cells": [
  {
   "cell_type": "code",
   "execution_count": 33,
   "metadata": {},
   "outputs": [],
   "source": [
    "import pandas as pd\n",
    "import numpy as np\n",
    "from sklearn.ensemble import RandomForestRegressor\n",
    "from sklearn.model_selection import train_test_split\n",
    "from sklearn.metrics import accuracy_score, roc_curve, auc, confusion_matrix, average_precision_score, precision_recall_curve\n"
   ]
  },
  {
   "cell_type": "markdown",
   "metadata": {},
   "source": [
    "## Importing Data"
   ]
  },
  {
   "cell_type": "code",
   "execution_count": 2,
   "metadata": {},
   "outputs": [],
   "source": [
    "goal_11 = pd.read_excel(\"sdg_data/Goal11.xlsx\")"
   ]
  },
  {
   "cell_type": "code",
   "execution_count": 4,
   "metadata": {},
   "outputs": [
    {
     "name": "stdout",
     "output_type": "stream",
     "text": [
      "<class 'pandas.core.frame.DataFrame'>\n",
      "RangeIndex: 19296 entries, 0 to 19295\n",
      "Data columns (total 23 columns):\n",
      " #   Column             Non-Null Count  Dtype  \n",
      "---  ------             --------------  -----  \n",
      " 0   Goal               19296 non-null  int64  \n",
      " 1   Target             19296 non-null  object \n",
      " 2   Indicator          19296 non-null  object \n",
      " 3   SeriesCode         19296 non-null  object \n",
      " 4   SeriesDescription  19296 non-null  object \n",
      " 5   GeoAreaCode        19296 non-null  int64  \n",
      " 6   GeoAreaName        19296 non-null  object \n",
      " 7   TimePeriod         19296 non-null  int64  \n",
      " 8   Value              19296 non-null  float64\n",
      " 9   Time_Detail        19296 non-null  object \n",
      " 10  TimeCoverage       0 non-null      float64\n",
      " 11  UpperBound         0 non-null      float64\n",
      " 12  LowerBound         0 non-null      float64\n",
      " 13  BasePeriod         0 non-null      float64\n",
      " 14  Source             19296 non-null  object \n",
      " 15  GeoInfoUrl         0 non-null      float64\n",
      " 16  FootNote           15260 non-null  object \n",
      " 17  Cities             127 non-null    object \n",
      " 18  Hazard type        0 non-null      float64\n",
      " 19  Location           4034 non-null   object \n",
      " 20  Nature             18873 non-null  object \n",
      " 21  Reporting Type     19296 non-null  object \n",
      " 22  Units              19296 non-null  object \n",
      "dtypes: float64(7), int64(3), object(13)\n",
      "memory usage: 3.4+ MB\n"
     ]
    }
   ],
   "source": [
    "goal_11.info()"
   ]
  },
  {
   "cell_type": "code",
   "execution_count": 8,
   "metadata": {},
   "outputs": [],
   "source": [
    "subset_goal_11 = goal_11[['GeoAreaName', 'SeriesCode', 'Value']]"
   ]
  },
  {
   "cell_type": "code",
   "execution_count": 14,
   "metadata": {},
   "outputs": [],
   "source": [
    "goal_11_transformed = subset_goal_11.pivot_table(index='GeoAreaName', columns = 'SeriesCode', aggfunc='mean')"
   ]
  },
  {
   "cell_type": "code",
   "execution_count": 27,
   "metadata": {
    "scrolled": true
   },
   "outputs": [
    {
     "data": {
      "text/html": [
       "<div>\n",
       "<style scoped>\n",
       "    .dataframe tbody tr th:only-of-type {\n",
       "        vertical-align: middle;\n",
       "    }\n",
       "\n",
       "    .dataframe tbody tr th {\n",
       "        vertical-align: top;\n",
       "    }\n",
       "\n",
       "    .dataframe thead tr th {\n",
       "        text-align: left;\n",
       "    }\n",
       "\n",
       "    .dataframe thead tr:last-of-type th {\n",
       "        text-align: right;\n",
       "    }\n",
       "</style>\n",
       "<table border=\"1\" class=\"dataframe\">\n",
       "  <thead>\n",
       "    <tr>\n",
       "      <th></th>\n",
       "      <th colspan=\"21\" halign=\"left\">Value</th>\n",
       "    </tr>\n",
       "    <tr>\n",
       "      <th>SeriesCode</th>\n",
       "      <th>EN_ATM_PM25</th>\n",
       "      <th>EN_LND_SLUM</th>\n",
       "      <th>EN_REF_WASCOL</th>\n",
       "      <th>SD_CPA_UPRDP</th>\n",
       "      <th>SG_DSR_LGRGSR</th>\n",
       "      <th>SG_DSR_SFDRR</th>\n",
       "      <th>SG_DSR_SILN</th>\n",
       "      <th>SG_DSR_SILS</th>\n",
       "      <th>SG_GOV_LOGV</th>\n",
       "      <th>VC_DSR_AFFCT</th>\n",
       "      <th>...</th>\n",
       "      <th>VC_DSR_IJILN</th>\n",
       "      <th>VC_DSR_LSGP</th>\n",
       "      <th>VC_DSR_MISS</th>\n",
       "      <th>VC_DSR_MMHN</th>\n",
       "      <th>VC_DSR_MORT</th>\n",
       "      <th>VC_DSR_MTMP</th>\n",
       "      <th>VC_DSR_OBDN</th>\n",
       "      <th>VC_DSR_PDAN</th>\n",
       "      <th>VC_DSR_PDLN</th>\n",
       "      <th>VC_DSR_PDYN</th>\n",
       "    </tr>\n",
       "    <tr>\n",
       "      <th>GeoAreaName</th>\n",
       "      <th></th>\n",
       "      <th></th>\n",
       "      <th></th>\n",
       "      <th></th>\n",
       "      <th></th>\n",
       "      <th></th>\n",
       "      <th></th>\n",
       "      <th></th>\n",
       "      <th></th>\n",
       "      <th></th>\n",
       "      <th></th>\n",
       "      <th></th>\n",
       "      <th></th>\n",
       "      <th></th>\n",
       "      <th></th>\n",
       "      <th></th>\n",
       "      <th></th>\n",
       "      <th></th>\n",
       "      <th></th>\n",
       "      <th></th>\n",
       "      <th></th>\n",
       "    </tr>\n",
       "  </thead>\n",
       "  <tbody>\n",
       "    <tr>\n",
       "      <th>World</th>\n",
       "      <td>34.708362</td>\n",
       "      <td>23.5</td>\n",
       "      <td>NaN</td>\n",
       "      <td>156.0</td>\n",
       "      <td>NaN</td>\n",
       "      <td>118.0</td>\n",
       "      <td>NaN</td>\n",
       "      <td>NaN</td>\n",
       "      <td>NaN</td>\n",
       "      <td>NaN</td>\n",
       "      <td>...</td>\n",
       "      <td>NaN</td>\n",
       "      <td>NaN</td>\n",
       "      <td>NaN</td>\n",
       "      <td>NaN</td>\n",
       "      <td>NaN</td>\n",
       "      <td>NaN</td>\n",
       "      <td>NaN</td>\n",
       "      <td>NaN</td>\n",
       "      <td>NaN</td>\n",
       "      <td>NaN</td>\n",
       "    </tr>\n",
       "  </tbody>\n",
       "</table>\n",
       "<p>1 rows × 34 columns</p>\n",
       "</div>"
      ],
      "text/plain": [
       "                  Value                                                       \\\n",
       "SeriesCode  EN_ATM_PM25 EN_LND_SLUM EN_REF_WASCOL SD_CPA_UPRDP SG_DSR_LGRGSR   \n",
       "GeoAreaName                                                                    \n",
       "World         34.708362        23.5           NaN        156.0           NaN   \n",
       "\n",
       "                                                                           \\\n",
       "SeriesCode  SG_DSR_SFDRR SG_DSR_SILN SG_DSR_SILS SG_GOV_LOGV VC_DSR_AFFCT   \n",
       "GeoAreaName                                                                 \n",
       "World              118.0         NaN         NaN         NaN          NaN   \n",
       "\n",
       "             ...                                                               \\\n",
       "SeriesCode   ... VC_DSR_IJILN VC_DSR_LSGP VC_DSR_MISS VC_DSR_MMHN VC_DSR_MORT   \n",
       "GeoAreaName  ...                                                                \n",
       "World        ...          NaN         NaN         NaN         NaN         NaN   \n",
       "\n",
       "                                                                         \n",
       "SeriesCode  VC_DSR_MTMP VC_DSR_OBDN VC_DSR_PDAN VC_DSR_PDLN VC_DSR_PDYN  \n",
       "GeoAreaName                                                              \n",
       "World               NaN         NaN         NaN         NaN         NaN  \n",
       "\n",
       "[1 rows x 34 columns]"
      ]
     },
     "execution_count": 27,
     "metadata": {},
     "output_type": "execute_result"
    }
   ],
   "source": [
    "goal_11_transformed.loc[['World']]"
   ]
  },
  {
   "cell_type": "code",
   "execution_count": 28,
   "metadata": {},
   "outputs": [],
   "source": [
    "goal_11_T_noWorld = goal_11_transformed.drop(index='World')"
   ]
  },
  {
   "cell_type": "code",
   "execution_count": 30,
   "metadata": {},
   "outputs": [
    {
     "name": "stdout",
     "output_type": "stream",
     "text": [
      "<class 'pandas.core.frame.DataFrame'>\n",
      "Index: 265 entries, Afghanistan to Åland Islands\n",
      "Data columns (total 34 columns):\n",
      " #   Column                  Non-Null Count  Dtype  \n",
      "---  ------                  --------------  -----  \n",
      " 0   (Value, EN_ATM_PM25)    202 non-null    float64\n",
      " 1   (Value, EN_LND_SLUM)    133 non-null    float64\n",
      " 2   (Value, EN_REF_WASCOL)  89 non-null     float64\n",
      " 3   (Value, SD_CPA_UPRDP)   264 non-null    float64\n",
      " 4   (Value, SG_DSR_LGRGSR)  132 non-null    float64\n",
      " 5   (Value, SG_DSR_SFDRR)   8 non-null      float64\n",
      " 6   (Value, SG_DSR_SILN)    107 non-null    float64\n",
      " 7   (Value, SG_DSR_SILS)    106 non-null    float64\n",
      " 8   (Value, SG_GOV_LOGV)    110 non-null    float64\n",
      " 9   (Value, VC_DSR_AFFCT)   142 non-null    float64\n",
      " 10  (Value, VC_DSR_AGLH)    102 non-null    float64\n",
      " 11  (Value, VC_DSR_BSDN)    99 non-null     float64\n",
      " 12  (Value, VC_DSR_CDAN)    80 non-null     float64\n",
      " 13  (Value, VC_DSR_CDYN)    27 non-null     float64\n",
      " 14  (Value, VC_DSR_CHLN)    24 non-null     float64\n",
      " 15  (Value, VC_DSR_CILN)    90 non-null     float64\n",
      " 16  (Value, VC_DSR_DAFF)    142 non-null    float64\n",
      " 17  (Value, VC_DSR_DDPA)    31 non-null     float64\n",
      " 18  (Value, VC_DSR_EFDN)    77 non-null     float64\n",
      " 19  (Value, VC_DSR_ESDN)    82 non-null     float64\n",
      " 20  (Value, VC_DSR_GDPLS)   128 non-null    float64\n",
      " 21  (Value, VC_DSR_HFDN)    61 non-null     float64\n",
      " 22  (Value, VC_DSR_HOLH)    122 non-null    float64\n",
      " 23  (Value, VC_DSR_HSDN)    79 non-null     float64\n",
      " 24  (Value, VC_DSR_IJILN)   132 non-null    float64\n",
      " 25  (Value, VC_DSR_LSGP)    128 non-null    float64\n",
      " 26  (Value, VC_DSR_MISS)    75 non-null     float64\n",
      " 27  (Value, VC_DSR_MMHN)    145 non-null    float64\n",
      " 28  (Value, VC_DSR_MORT)    143 non-null    float64\n",
      " 29  (Value, VC_DSR_MTMP)    145 non-null    float64\n",
      " 30  (Value, VC_DSR_OBDN)    56 non-null     float64\n",
      " 31  (Value, VC_DSR_PDAN)    129 non-null    float64\n",
      " 32  (Value, VC_DSR_PDLN)    103 non-null    float64\n",
      " 33  (Value, VC_DSR_PDYN)    122 non-null    float64\n",
      "dtypes: float64(34)\n",
      "memory usage: 72.5+ KB\n"
     ]
    }
   ],
   "source": [
    "goal_11_T_noWorld.info()"
   ]
  },
  {
   "cell_type": "code",
   "execution_count": 36,
   "metadata": {},
   "outputs": [],
   "source": [
    "#dropping countries that don't have any data for %in urban slums\n",
    "goal_11_final = goal_11_transformed[goal_11_transformed[('Value', 'EN_LND_SLUM')].notna()]"
   ]
  },
  {
   "cell_type": "code",
   "execution_count": 37,
   "metadata": {},
   "outputs": [
    {
     "name": "stdout",
     "output_type": "stream",
     "text": [
      "<class 'pandas.core.frame.DataFrame'>\n",
      "Index: 134 entries, Afghanistan to Zimbabwe\n",
      "Data columns (total 34 columns):\n",
      " #   Column                  Non-Null Count  Dtype  \n",
      "---  ------                  --------------  -----  \n",
      " 0   (Value, EN_ATM_PM25)    130 non-null    float64\n",
      " 1   (Value, EN_LND_SLUM)    134 non-null    float64\n",
      " 2   (Value, EN_REF_WASCOL)  61 non-null     float64\n",
      " 3   (Value, SD_CPA_UPRDP)   134 non-null    float64\n",
      " 4   (Value, SG_DSR_LGRGSR)  81 non-null     float64\n",
      " 5   (Value, SG_DSR_SFDRR)   8 non-null      float64\n",
      " 6   (Value, SG_DSR_SILN)    64 non-null     float64\n",
      " 7   (Value, SG_DSR_SILS)    64 non-null     float64\n",
      " 8   (Value, SG_GOV_LOGV)    67 non-null     float64\n",
      " 9   (Value, VC_DSR_AFFCT)   96 non-null     float64\n",
      " 10  (Value, VC_DSR_AGLH)    73 non-null     float64\n",
      " 11  (Value, VC_DSR_BSDN)    68 non-null     float64\n",
      " 12  (Value, VC_DSR_CDAN)    60 non-null     float64\n",
      " 13  (Value, VC_DSR_CDYN)    18 non-null     float64\n",
      " 14  (Value, VC_DSR_CHLN)    15 non-null     float64\n",
      " 15  (Value, VC_DSR_CILN)    66 non-null     float64\n",
      " 16  (Value, VC_DSR_DAFF)    96 non-null     float64\n",
      " 17  (Value, VC_DSR_DDPA)    18 non-null     float64\n",
      " 18  (Value, VC_DSR_EFDN)    58 non-null     float64\n",
      " 19  (Value, VC_DSR_ESDN)    60 non-null     float64\n",
      " 20  (Value, VC_DSR_GDPLS)   87 non-null     float64\n",
      " 21  (Value, VC_DSR_HFDN)    47 non-null     float64\n",
      " 22  (Value, VC_DSR_HOLH)    85 non-null     float64\n",
      " 23  (Value, VC_DSR_HSDN)    60 non-null     float64\n",
      " 24  (Value, VC_DSR_IJILN)   92 non-null     float64\n",
      " 25  (Value, VC_DSR_LSGP)    87 non-null     float64\n",
      " 26  (Value, VC_DSR_MISS)    58 non-null     float64\n",
      " 27  (Value, VC_DSR_MMHN)    97 non-null     float64\n",
      " 28  (Value, VC_DSR_MORT)    96 non-null     float64\n",
      " 29  (Value, VC_DSR_MTMP)    97 non-null     float64\n",
      " 30  (Value, VC_DSR_OBDN)    37 non-null     float64\n",
      " 31  (Value, VC_DSR_PDAN)    90 non-null     float64\n",
      " 32  (Value, VC_DSR_PDLN)    78 non-null     float64\n",
      " 33  (Value, VC_DSR_PDYN)    89 non-null     float64\n",
      "dtypes: float64(34)\n",
      "memory usage: 36.6+ KB\n"
     ]
    }
   ],
   "source": [
    "goal_11_final.info()"
   ]
  },
  {
   "cell_type": "code",
   "execution_count": 38,
   "metadata": {},
   "outputs": [],
   "source": [
    "# Setting Percent of Urban Population Living in Slums as Target to predict\n",
    "target = np.array(goal_11_final[('Value', 'EN_LND_SLUM')])\n",
    "\n",
    "#Remove Target from features\n",
    "features = goal_11_final.drop(('Value', 'EN_LND_SLUM'), axis=1)\n",
    "\n",
    "#Saving Feature names for future use\n",
    "feature_list = list(features.columns)\n",
    "\n",
    "#Converting to numpy array\n",
    "features = np.array(features)\n"
   ]
  },
  {
   "cell_type": "code",
   "execution_count": 39,
   "metadata": {},
   "outputs": [],
   "source": [
    "# Using Skicit-learn to split data into training and testing sets\n",
    "# Split the data into training and testing sets\n",
    "train_features, test_features, train_target, test_target = train_test_split(\n",
    "    features, target, test_size = 0.25, random_state = 42)"
   ]
  },
  {
   "cell_type": "code",
   "execution_count": 40,
   "metadata": {},
   "outputs": [
    {
     "name": "stdout",
     "output_type": "stream",
     "text": [
      "Training Features Shape: (100, 33)\n",
      "Training Labels Shape: (100,)\n",
      "Testing Features Shape: (34, 33)\n",
      "Testing Labels Shape: (34,)\n"
     ]
    }
   ],
   "source": [
    "print('Training Features Shape:', train_features.shape)\n",
    "print('Training Labels Shape:', train_target.shape)\n",
    "print('Testing Features Shape:', test_features.shape)\n",
    "print('Testing Labels Shape:', test_target.shape)"
   ]
  },
  {
   "cell_type": "code",
   "execution_count": 42,
   "metadata": {},
   "outputs": [],
   "source": [
    "# # The baseline predictions are the historical averages\n",
    "# baseline_preds = test_features[:, feature_list.index('average')]\n",
    "# # Baseline errors, and display average baseline error\n",
    "# baseline_errors = abs(baseline_preds - test_labels)\n",
    "# print('Average baseline error: ', round(np.mean(baseline_errors), 2))"
   ]
  },
  {
   "cell_type": "code",
   "execution_count": 43,
   "metadata": {},
   "outputs": [
    {
     "ename": "ValueError",
     "evalue": "Input contains NaN, infinity or a value too large for dtype('float32').",
     "output_type": "error",
     "traceback": [
      "\u001b[0;31m---------------------------------------------------------------------------\u001b[0m",
      "\u001b[0;31mValueError\u001b[0m                                Traceback (most recent call last)",
      "\u001b[0;32m<ipython-input-43-c60be142a79f>\u001b[0m in \u001b[0;36m<module>\u001b[0;34m\u001b[0m\n\u001b[1;32m      2\u001b[0m \u001b[0mrf\u001b[0m \u001b[0;34m=\u001b[0m \u001b[0mRandomForestRegressor\u001b[0m\u001b[0;34m(\u001b[0m\u001b[0mn_estimators\u001b[0m \u001b[0;34m=\u001b[0m \u001b[0;36m1000\u001b[0m\u001b[0;34m,\u001b[0m \u001b[0mrandom_state\u001b[0m \u001b[0;34m=\u001b[0m \u001b[0;36m42\u001b[0m\u001b[0;34m)\u001b[0m\u001b[0;34m\u001b[0m\u001b[0;34m\u001b[0m\u001b[0m\n\u001b[1;32m      3\u001b[0m \u001b[0;31m# Train the model on training data\u001b[0m\u001b[0;34m\u001b[0m\u001b[0;34m\u001b[0m\u001b[0;34m\u001b[0m\u001b[0m\n\u001b[0;32m----> 4\u001b[0;31m \u001b[0mrf\u001b[0m\u001b[0;34m.\u001b[0m\u001b[0mfit\u001b[0m\u001b[0;34m(\u001b[0m\u001b[0mtrain_features\u001b[0m\u001b[0;34m,\u001b[0m \u001b[0mtrain_target\u001b[0m\u001b[0;34m)\u001b[0m\u001b[0;34m;\u001b[0m\u001b[0;34m\u001b[0m\u001b[0;34m\u001b[0m\u001b[0m\n\u001b[0m",
      "\u001b[0;32m~/opt/anaconda3/lib/python3.7/site-packages/sklearn/ensemble/_forest.py\u001b[0m in \u001b[0;36mfit\u001b[0;34m(self, X, y, sample_weight)\u001b[0m\n\u001b[1;32m    293\u001b[0m         \"\"\"\n\u001b[1;32m    294\u001b[0m         \u001b[0;31m# Validate or convert input data\u001b[0m\u001b[0;34m\u001b[0m\u001b[0;34m\u001b[0m\u001b[0;34m\u001b[0m\u001b[0m\n\u001b[0;32m--> 295\u001b[0;31m         \u001b[0mX\u001b[0m \u001b[0;34m=\u001b[0m \u001b[0mcheck_array\u001b[0m\u001b[0;34m(\u001b[0m\u001b[0mX\u001b[0m\u001b[0;34m,\u001b[0m \u001b[0maccept_sparse\u001b[0m\u001b[0;34m=\u001b[0m\u001b[0;34m\"csc\"\u001b[0m\u001b[0;34m,\u001b[0m \u001b[0mdtype\u001b[0m\u001b[0;34m=\u001b[0m\u001b[0mDTYPE\u001b[0m\u001b[0;34m)\u001b[0m\u001b[0;34m\u001b[0m\u001b[0;34m\u001b[0m\u001b[0m\n\u001b[0m\u001b[1;32m    296\u001b[0m         \u001b[0my\u001b[0m \u001b[0;34m=\u001b[0m \u001b[0mcheck_array\u001b[0m\u001b[0;34m(\u001b[0m\u001b[0my\u001b[0m\u001b[0;34m,\u001b[0m \u001b[0maccept_sparse\u001b[0m\u001b[0;34m=\u001b[0m\u001b[0;34m'csc'\u001b[0m\u001b[0;34m,\u001b[0m \u001b[0mensure_2d\u001b[0m\u001b[0;34m=\u001b[0m\u001b[0;32mFalse\u001b[0m\u001b[0;34m,\u001b[0m \u001b[0mdtype\u001b[0m\u001b[0;34m=\u001b[0m\u001b[0;32mNone\u001b[0m\u001b[0;34m)\u001b[0m\u001b[0;34m\u001b[0m\u001b[0;34m\u001b[0m\u001b[0m\n\u001b[1;32m    297\u001b[0m         \u001b[0;32mif\u001b[0m \u001b[0msample_weight\u001b[0m \u001b[0;32mis\u001b[0m \u001b[0;32mnot\u001b[0m \u001b[0;32mNone\u001b[0m\u001b[0;34m:\u001b[0m\u001b[0;34m\u001b[0m\u001b[0;34m\u001b[0m\u001b[0m\n",
      "\u001b[0;32m~/opt/anaconda3/lib/python3.7/site-packages/sklearn/utils/validation.py\u001b[0m in \u001b[0;36mcheck_array\u001b[0;34m(array, accept_sparse, accept_large_sparse, dtype, order, copy, force_all_finite, ensure_2d, allow_nd, ensure_min_samples, ensure_min_features, warn_on_dtype, estimator)\u001b[0m\n\u001b[1;32m    576\u001b[0m         \u001b[0;32mif\u001b[0m \u001b[0mforce_all_finite\u001b[0m\u001b[0;34m:\u001b[0m\u001b[0;34m\u001b[0m\u001b[0;34m\u001b[0m\u001b[0m\n\u001b[1;32m    577\u001b[0m             _assert_all_finite(array,\n\u001b[0;32m--> 578\u001b[0;31m                                allow_nan=force_all_finite == 'allow-nan')\n\u001b[0m\u001b[1;32m    579\u001b[0m \u001b[0;34m\u001b[0m\u001b[0m\n\u001b[1;32m    580\u001b[0m     \u001b[0;32mif\u001b[0m \u001b[0mensure_min_samples\u001b[0m \u001b[0;34m>\u001b[0m \u001b[0;36m0\u001b[0m\u001b[0;34m:\u001b[0m\u001b[0;34m\u001b[0m\u001b[0;34m\u001b[0m\u001b[0m\n",
      "\u001b[0;32m~/opt/anaconda3/lib/python3.7/site-packages/sklearn/utils/validation.py\u001b[0m in \u001b[0;36m_assert_all_finite\u001b[0;34m(X, allow_nan, msg_dtype)\u001b[0m\n\u001b[1;32m     58\u001b[0m                     \u001b[0mmsg_err\u001b[0m\u001b[0;34m.\u001b[0m\u001b[0mformat\u001b[0m\u001b[0;34m\u001b[0m\u001b[0;34m\u001b[0m\u001b[0m\n\u001b[1;32m     59\u001b[0m                     (type_err,\n\u001b[0;32m---> 60\u001b[0;31m                      msg_dtype if msg_dtype is not None else X.dtype)\n\u001b[0m\u001b[1;32m     61\u001b[0m             )\n\u001b[1;32m     62\u001b[0m     \u001b[0;31m# for object dtype data, we only check for NaNs (GH-13254)\u001b[0m\u001b[0;34m\u001b[0m\u001b[0;34m\u001b[0m\u001b[0;34m\u001b[0m\u001b[0m\n",
      "\u001b[0;31mValueError\u001b[0m: Input contains NaN, infinity or a value too large for dtype('float32')."
     ]
    }
   ],
   "source": [
    "# Instantiate model with 1000 decision trees\n",
    "rf = RandomForestRegressor(n_estimators = 1000, random_state = 42)\n",
    "# Train the model on training data\n",
    "rf.fit(train_features, train_target);"
   ]
  },
  {
   "cell_type": "code",
   "execution_count": null,
   "metadata": {},
   "outputs": [],
   "source": []
  }
 ],
 "metadata": {
  "kernelspec": {
   "display_name": "Python 3",
   "language": "python",
   "name": "python3"
  },
  "language_info": {
   "codemirror_mode": {
    "name": "ipython",
    "version": 3
   },
   "file_extension": ".py",
   "mimetype": "text/x-python",
   "name": "python",
   "nbconvert_exporter": "python",
   "pygments_lexer": "ipython3",
   "version": "3.7.6"
  },
  "toc": {
   "base_numbering": 1,
   "nav_menu": {},
   "number_sections": true,
   "sideBar": true,
   "skip_h1_title": false,
   "title_cell": "Table of Contents",
   "title_sidebar": "Contents",
   "toc_cell": false,
   "toc_position": {},
   "toc_section_display": true,
   "toc_window_display": false
  }
 },
 "nbformat": 4,
 "nbformat_minor": 4
}
